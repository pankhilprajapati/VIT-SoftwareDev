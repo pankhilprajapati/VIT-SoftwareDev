{
 "cells": [
  {
   "cell_type": "markdown",
   "metadata": {},
   "source": [
    "# Instruction\n",
    "- Creating a class Game create a board with player on it\n",
    "- Inputing the default input / can be used for userdefined \n",
    "- use moveAp1 to move the players of A team\n",
    "\n",
    "this is the not the full solution i was able to do it this part only"
   ]
  },
  {
   "cell_type": "code",
   "execution_count": 83,
   "metadata": {},
   "outputs": [],
   "source": [
    "class Game:\n",
    "    def __init__(self,p1,p2,board):\n",
    "        self.board = board\n",
    "        self.board[0] = p2\n",
    "        self.board[-1] = p1\n",
    "    def direcTo(self,direc):\n",
    "        if(direc == 'B'):\n",
    "            return -1,0\n",
    "        elif direc == 'F':\n",
    "            return 1,0\n",
    "        elif direc == 'L':\n",
    "            return 0,1\n",
    "        elif direc == 'R':\n",
    "            return 0,-1\n",
    "    def moveAp1(self,player,direc):\n",
    "        v,h = self.direcTo(direc)\n",
    "        curr_loc = [(i,row.index('A-'+player)) for i,row in enumerate(self.board) if 'A-'+player in row][0]\n",
    "        if(h ==0 and curr_loc[0]-v >-1 and curr_loc[0]-v<5):\n",
    "            if(self.board[curr_loc[0]-v][curr_loc[1]]!=''):\n",
    "                if(self.board[curr_loc[0]-v][curr_loc[1]][0]=='A'):\n",
    "                    print(\"Can'nt move\")\n",
    "                else:\n",
    "                    self.board[curr_loc[0]-v][curr_loc[1]] = self.board[curr_loc[0]][curr_loc[1]]\n",
    "                    self.board[curr_loc[0]][curr_loc[1]] = ''\n",
    "            else:\n",
    "                self.board[curr_loc[0]-v][curr_loc[1]] = self.board[curr_loc[0]][curr_loc[1]]\n",
    "                self.board[curr_loc[0]][curr_loc[1]] = ''\n",
    "        elif(v ==0 and curr_loc[0]-h>-1 and curr_loc[0]-h<5):\n",
    "            if(self.board[curr_loc[0]][curr_loc[1]-h]!=''):\n",
    "                if(self.board[curr_loc[0]][curr_loc[1]-h][0]=='A'):\n",
    "                    print(\"Can'nt move\")\n",
    "                else:\n",
    "                    self.board[curr_loc[0]][curr_loc[1]-h] = self.board[curr_loc[0]][curr_loc[1]]\n",
    "                    self.board[curr_loc[0]][curr_loc[1]] = ''\n",
    "            else:\n",
    "                self.board[curr_loc[0]][curr_loc[1]-h] = self.board[curr_loc[0]][curr_loc[1]]\n",
    "                self.board[curr_loc[0]][curr_loc[1]] = ''\n",
    "        \n",
    "# ap1 = list(map(lambda x: \"A-\"+x,input().split()))\n",
    "# bp2 = list(map(lambda x: \"B-\"+x,input().split()))\n",
    "bp2 = ['B-P2', 'B-P1', 'B-P3', 'B-P5', 'B-P4']\n",
    "ap1 =['A-P3', 'A-P2', 'A-P5', 'A-P4', 'A-P1']\n",
    "board = [['' for i in range(5)] for i in range(5)]\n",
    "        "
   ]
  },
  {
   "cell_type": "code",
   "execution_count": 84,
   "metadata": {},
   "outputs": [],
   "source": [
    "g = Game(ap1,bp2,board)"
   ]
  },
  {
   "cell_type": "code",
   "execution_count": 85,
   "metadata": {},
   "outputs": [],
   "source": [
    "g.moveAp1(\"P4\",\"F\")"
   ]
  },
  {
   "cell_type": "code",
   "execution_count": 86,
   "metadata": {},
   "outputs": [
    {
     "data": {
      "text/plain": [
       "[['B-P2', 'B-P1', 'B-P3', 'B-P5', 'B-P4'],\n",
       " ['', '', '', '', ''],\n",
       " ['', '', '', '', ''],\n",
       " ['', '', '', 'A-P4', ''],\n",
       " ['A-P3', 'A-P2', 'A-P5', '', 'A-P1']]"
      ]
     },
     "execution_count": 86,
     "metadata": {},
     "output_type": "execute_result"
    }
   ],
   "source": [
    "g.board"
   ]
  },
  {
   "cell_type": "code",
   "execution_count": 87,
   "metadata": {},
   "outputs": [],
   "source": [
    "g.moveAp1(\"P1\",\"F\")"
   ]
  },
  {
   "cell_type": "code",
   "execution_count": 88,
   "metadata": {},
   "outputs": [
    {
     "data": {
      "text/plain": [
       "[['B-P2', 'B-P1', 'B-P3', 'B-P5', 'B-P4'],\n",
       " ['', '', '', '', ''],\n",
       " ['', '', '', '', ''],\n",
       " ['', '', '', 'A-P4', 'A-P1'],\n",
       " ['A-P3', 'A-P2', 'A-P5', '', '']]"
      ]
     },
     "execution_count": 88,
     "metadata": {},
     "output_type": "execute_result"
    }
   ],
   "source": [
    "g.board"
   ]
  },
  {
   "cell_type": "code",
   "execution_count": 89,
   "metadata": {},
   "outputs": [
    {
     "name": "stdout",
     "output_type": "stream",
     "text": [
      "Can'nt move\n"
     ]
    }
   ],
   "source": [
    "g.moveAp1(\"P1\",\"L\")"
   ]
  },
  {
   "cell_type": "code",
   "execution_count": 90,
   "metadata": {},
   "outputs": [
    {
     "name": "stdout",
     "output_type": "stream",
     "text": [
      "Can'nt move\n"
     ]
    }
   ],
   "source": [
    "g.moveAp1(\"P4\",\"R\")"
   ]
  },
  {
   "cell_type": "code",
   "execution_count": null,
   "metadata": {},
   "outputs": [],
   "source": []
  }
 ],
 "metadata": {
  "kernelspec": {
   "display_name": "Python 3",
   "language": "python",
   "name": "python3"
  },
  "language_info": {
   "codemirror_mode": {
    "name": "ipython",
    "version": 3
   },
   "file_extension": ".py",
   "mimetype": "text/x-python",
   "name": "python",
   "nbconvert_exporter": "python",
   "pygments_lexer": "ipython3",
   "version": "3.7.6"
  }
 },
 "nbformat": 4,
 "nbformat_minor": 4
}
